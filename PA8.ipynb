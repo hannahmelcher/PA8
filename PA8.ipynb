{
 "cells": [
  {
   "cell_type": "markdown",
   "id": "f58108e6",
   "metadata": {},
   "source": [
    "## Hannah Melcher\n",
    "## CS-150-01\n",
    "## Version 1\n",
    "## PA8"
   ]
  },
  {
   "cell_type": "markdown",
   "id": "b37fcaf5",
   "metadata": {},
   "source": [
    "### A"
   ]
  },
  {
   "cell_type": "code",
   "execution_count": 2,
   "id": "e1185e2a",
   "metadata": {},
   "outputs": [
    {
     "name": "stdout",
     "output_type": "stream",
     "text": [
      "Squared array:\n",
      " [[ 100  400]\n",
      " [ 900 1600]]\n",
      "Added array:\n",
      " [[110 120]\n",
      " [130 140]]\n",
      "Multiplied array:\n",
      " [[ 50 100]\n",
      " [150 200]]\n",
      "Square root array:\n",
      " [[3.16227766 4.47213595]\n",
      " [5.47722558 6.32455532]]\n"
     ]
    }
   ],
   "source": [
    "import numpy as np\n",
    "\n",
    "# 2-by-2 numpy array\n",
    "arr = np.array([[10, 20], [30, 40]])\n",
    "\n",
    "# square every element of the array\n",
    "squared = arr ** 2\n",
    "print(\"Squared array:\\n\", squared)\n",
    "\n",
    "# add 100 to every element of the array\n",
    "added = arr + 100\n",
    "print(\"Added array:\\n\", added)\n",
    "\n",
    "# multiply every element of the array by 5\n",
    "multiplied = arr * 5\n",
    "print(\"Multiplied array:\\n\", multiplied)\n",
    "\n",
    "# calculate the square root of each element in the array\n",
    "sqrt = np.sqrt(arr)\n",
    "print(\"Square root array:\\n\", sqrt)"
   ]
  },
  {
   "cell_type": "markdown",
   "id": "d520a79d",
   "metadata": {},
   "source": [
    "### B"
   ]
  },
  {
   "cell_type": "code",
   "execution_count": 3,
   "id": "d115b375",
   "metadata": {},
   "outputs": [
    {
     "name": "stdout",
     "output_type": "stream",
     "text": [
      "Array 1:\n",
      " [[ 3  6  9]\n",
      " [12 15 18]\n",
      " [21 24 27]]\n",
      "Array 2:\n",
      " [[10.   11.25 12.5 ]\n",
      " [13.75 15.   16.25]\n",
      " [17.5  18.75 20.  ]]\n",
      "Product:\n",
      " [[ 30.   67.5 112.5]\n",
      " [165.  225.  292.5]\n",
      " [367.5 450.  540. ]]\n"
     ]
    }
   ],
   "source": [
    "import numpy as np\n",
    "\n",
    "# 3-by-3 array containing integers from 3 to 27 in multiples of 3\n",
    "arr1 = np.arange(3, 30, 3).reshape(3, 3)\n",
    "print(\"Array 1:\\n\", arr1)\n",
    "\n",
    "# second 3-by-3 array with 9 elements evenly spaced between 10 and 20\n",
    "arr2 = np.linspace(10, 20, 9).reshape(3, 3)\n",
    "print(\"Array 2:\\n\", arr2)\n",
    "\n",
    "# multiply the two arrays\n",
    "product = arr1 * arr2\n",
    "print(\"Product:\\n\", product)"
   ]
  },
  {
   "cell_type": "markdown",
   "id": "e5e6f320",
   "metadata": {},
   "source": [
    "### C"
   ]
  },
  {
   "cell_type": "code",
   "execution_count": 5,
   "id": "8d987dc4",
   "metadata": {},
   "outputs": [],
   "source": [
    "process1=np.load('process1.npy')\n",
    "process2=np.load('process2.npy')\n",
    "process3=np.load('process3.npy')\n",
    "process4=np.load('process4.npy')\n",
    "process5=np.load('process5.npy')"
   ]
  },
  {
   "cell_type": "code",
   "execution_count": 6,
   "id": "6b91a946",
   "metadata": {},
   "outputs": [
    {
     "name": "stdout",
     "output_type": "stream",
     "text": [
      "[[[52 12 81  0 58]]\n",
      "\n",
      " [[96  4 61 16 43]]\n",
      "\n",
      " [[38 96 45 17 58]]\n",
      "\n",
      " [[97 21 22 25  6]]\n",
      "\n",
      " [[77  6 19  2 74]]]\n"
     ]
    }
   ],
   "source": [
    "Data=np.stack([process1,process2,process3,process4,process5])\n",
    "print(Data)"
   ]
  },
  {
   "cell_type": "code",
   "execution_count": 7,
   "id": "4b77cf88",
   "metadata": {},
   "outputs": [
    {
     "name": "stdout",
     "output_type": "stream",
     "text": [
      "[[72.  27.8 45.6 12.  47.8]]\n"
     ]
    }
   ],
   "source": [
    "Mean=np.mean(Data, axis=0)\n",
    "print(Mean)"
   ]
  }
 ],
 "metadata": {
  "kernelspec": {
   "display_name": "Python 3 (ipykernel)",
   "language": "python",
   "name": "python3"
  },
  "language_info": {
   "codemirror_mode": {
    "name": "ipython",
    "version": 3
   },
   "file_extension": ".py",
   "mimetype": "text/x-python",
   "name": "python",
   "nbconvert_exporter": "python",
   "pygments_lexer": "ipython3",
   "version": "3.9.13"
  }
 },
 "nbformat": 4,
 "nbformat_minor": 5
}
